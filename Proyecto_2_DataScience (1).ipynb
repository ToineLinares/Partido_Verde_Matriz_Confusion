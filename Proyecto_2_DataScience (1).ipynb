{
 "cells": [
  {
   "cell_type": "code",
   "execution_count": 218,
   "metadata": {},
   "outputs": [
    {
     "data": {
      "text/plain": [
       "array([1., 2., 3., 4.])"
      ]
     },
     "execution_count": 218,
     "metadata": {},
     "output_type": "execute_result"
    }
   ],
   "source": [
    "import numpy as np\n",
    "import matplotlib.pyplot as plt\n",
    "import sklearn.linear_model\n",
    "\n",
    "datos_18 = {\"Amazonas\": 6.78, \"Antioquia\": 6.76, \"Arauca\": 3.38, \"Atlantico\": 2.68, \"Bogota DC\": 22.05, \"Bolivar\": 3.02, \"Boyaca\": 23.91, \"Caldas\": 5.99, \"Caqueta\": 4.23, \"Casanare\": 9.92, \"Cauca\": 4.69, \"Cesar\": 2.47, \"Choco\": 8.93, \"Cordoba\": 1.96, \"Cundinamarca\": 9.72, \"Guainia\": 5.65, \"Guaviare\": 5.22, \"Huila\": 5.30, \"La Guajira\": 2.41, \"Magdalena\": 4.59, \"Meta\": 6.87, \"Narino\": 9.27, \"Putumayo\": 10.38, \"Quindio\": 6.23, \"Risaralda\": 6.86, \"San Andres\": 2.81, \"Santander\": 3.64, \"Sucre\": 1.48, \"Tolima\": 4.45, \"Valle\": 6.80, \"Vaupes\": 6.31, \"Vichada\": 4.79}\n",
    "datos_ganadores_18 = {\"Amazonas\": 21.87, \"Antioquia\": 32.86, \"Arauca\": 31.22, \"Atlantico\": 31.38, \"Bogota DC\": 22.05, \"Bolivar\": 20.85, \"Boyaca\": 20.72, \"Caldas\": 5.99, \"Caqueta\": 18.27, \"Casanare\": 40.03, \"Cauca\": 24.50, \"Cesar\": 28.50, \"Choco\": 23.53, \"Cordoba\": 27.16, \"Cundinamarca\": 19.02, \"Guainia\": 24.66, \"Guaviare\": 24.92, \"Huila\": 18.52, \"La Guajira\": 28.37, \"Magdalena\": 33.78, \"Meta\": 20.50, \"Narino\": 25.32, \"Putumayo\": 26.62, \"Quindio\": 29.13, \"Risaralda\": 18.62, \"San Andres\": 25.34, \"Santander\": 21.74, \"Sucre\": 44.14, \"Tolima\": 25.29, \"Valle\": 18.76, \"Vaupes\": 28.70, \"Vichada\": 27.63}\n",
    "departamentos = np.array([\"Amazonas\", \"Antioquia\", \"Arauca\", \"Atlantico\", \"Bogota DC\", \"Bolivar\", \"Boyaca\", \"Caldas\", \"Caqueta\", \"Casanare\", \"Cauca\", \"Cesar\", \"Choco\", \"Cordoba\", \"Cundinamarca\", \"Guainia\", \"Guaviare\", \"Huila\", \"La Guajira\", \"Magdalena\", \"Meta\", \"Narino\", \"Putumayo\", \"Quindio\", \"Risaralda\", \"San Andres\", \"Santander\", \"Sucre\", \"Tolima\", \"Valle\", \"Vaupes\", \"Vichada\"])\n",
    "verde_18 = np.zeros(len(datos_18))\n",
    "ganadores_18 = np.zeros(len(datos_18))\n",
    "for i in range(len(verde_18)):\n",
    "    verde_18[i] = datos_18[departamentos[i]]\n",
    "    ganadores_18[i] = datos_ganadores_18[departamentos[i]]\n",
    "x = np.linspace(1, 32, 32)\n",
    "x[:4]"
   ]
  },
  {
   "cell_type": "code",
   "execution_count": 219,
   "metadata": {},
   "outputs": [],
   "source": [
    "CD_18 = np.array([16.02, 32.86, 31.22, 7.96, 18.89, 8.22, 16.60, 16.86, 18.27, 40.03, 6.89, 9.18, 5.50, 8.57, 19.02, 24.66, 9.84, 17.78, 4.42, 9.45, 20.50, 4.97, 5.92, 17.33, 18.62, 11.54, 15.44, 4.61, 18.47, 13.03, 5.98, 27.63])\n",
    "PCC_18 = np.array([12.64, 14.15, 5.59, 22.08, 4.03, 18.36, 6.22, 8.70, 14.39, 3.02, 6.49, 10.08, 13.40, 27.16, 10.22, 5.77, 8.23, 18.52, 28.37, 9.52, 3.94, 25.32, 18.27, 3.60, 14.65, 11.63, 6.97, 8.16, 25.29, 9.89, 2.62, 3.44])\n",
    "CR_18 = np.array([6.17, 6.29, 14.23, 31.38, 7.97, 15.25, 13.49, 5.55, 7.37, 10.83, 24.50, 27.61, 14.65, 14.11, 11.26, 12.12, 14.39, 12.60, 15.06, 33.78, 13.16, 7.80, 4.76, 8.11, 5.79, 25.34, 15.94, 44.14, 9.62, 11.70, 20.64, 13.16])\n",
    "PLC_18 = np.array([21.87, 12.69, 10.98, 9.66, 6.11, 20.85, 6.65, 20.72, 17.59, 9.92, 20.67, 5.92, 21.07, 17.03, 8.00, 15.89, 14.84, 14.72, 8.76, 8.87, 13.53, 19.01, 26.62, 29.13, 17.03, 19.87, 21.74, 5.37, 11.40, 11.68, 26.71, 16.74])\n",
    "U_18 = np.array([20.43, 7.97, 16.27, 12.83, 4.45, 18.20, 7.51, 19.21, 5.47, 7.76, 9.08, 28.50, 23.53, 20.58, 14.17, 22.68, 24.92, 8.09, 14.57, 21.97, 15.82, 15.23, 6.56, 5.71, 7.52, 7.64, 4.42, 18.41, 9.97, 18.76, 28.70, 20.81])\n"
   ]
  },
  {
   "cell_type": "code",
   "execution_count": 220,
   "metadata": {},
   "outputs": [
    {
     "data": {
      "text/plain": [
       "array([ 6.78,  6.76,  3.38,  2.68, 22.05,  3.02, 23.91,  5.99,  4.23,\n",
       "        9.92,  4.69,  2.47,  8.93,  1.96,  9.72,  5.65,  5.22,  5.3 ,\n",
       "        2.41,  4.59,  6.87,  9.27, 10.38,  6.23,  6.86,  2.81,  3.64,\n",
       "        1.48,  4.45,  6.8 ,  6.31,  4.79])"
      ]
     },
     "execution_count": 220,
     "metadata": {},
     "output_type": "execute_result"
    }
   ],
   "source": [
    "16.02, 32.86, 31.22, 7.96, 18.89, 8.22, 16.60, 16.86, 18.27, 40.03, 6.89, 9.18, 5.50, 8.57, 19.02, 24.66, 9.84, 17.78, 4.42, 9.45, 20.50, 4.97, 5.92, 17.33, 18.62, 11.54, 15.44, 4.61, 18.47, 13.03, 5.98, 27.63\n"
   ]
  },
  {
   "cell_type": "code",
   "execution_count": 221,
   "metadata": {},
   "outputs": [],
   "source": [
    "verde_22 = np.array([3.96, 13.16, 6.85, 3.01, 20.13, 3.37, 30.87, 26.02, 11.05, 8.07, 8.89, 8.06, 5.87, 1.63, 14.16, 15.36, 5.63, 7.87, 2.68, 4.16, 15.99, 11.84, 10.70, 8.30, 8.12, 3.28, 20.59, 2.19, 6.02, 10.00, 4.45, 6.05])\n",
    "ganadores_22 = np.array([25.24, 21.03, 25.16, 26.09, 26.89, 26.43, 30.87, 26.02, 18.09, 40.02, 26.58, 25.39, 44.80, 34.67, 17.29, 18.36, 26.69, 24.39, 32.15, 24.61, 17.19, 24.78, 20.07, 14.50, 35.73, 22.13, 20.59, 27.45, 39.46, 22.90, 20.03, 26.53])\n"
   ]
  },
  {
   "cell_type": "code",
   "execution_count": 256,
   "metadata": {},
   "outputs": [],
   "source": [
    "X_v18 = np.zeros((len(verde_18), 3))\n",
    "X_v18[:,0] = CD_18\n",
    "X_v18[:,1] = CR_18\n",
    "X_v18[:,2] = PCC_18\n",
    "#X_v18[:,3] = PLC_18\n",
    "X = np.zeros((len(verde_18), 2))\n",
    "X[:,0] = CD_18\n",
    "X[:,1] = CR_18\n",
    "promedios = np.zeros(len(U_18))\n",
    "sumas = np.zeros(32)\n",
    "for i in range(len(promedios)):\n",
    "    promedios[i] = np.mean(X[i,:])\n",
    "promedios\n",
    "m = np.mean(promedios)\n",
    "P = (16.41 + 14.07)/(6.0)\n",
    "Y = np.ones(len(promedios), dtype = np.int)\n",
    "a_mean = promedios > P\n",
    "b_mean = promedios <= P\n",
    "Y[a_mean] = 1\n",
    "Y[b_mean] = 0\n"
   ]
  },
  {
   "cell_type": "code",
   "execution_count": 293,
   "metadata": {},
   "outputs": [],
   "source": [
    "sumas = np.zeros(32)\n",
    "for i in range(32):\n",
    "    suma = 0\n",
    "    for j in range(3):\n",
    "        if X_v18[i, j] != max(X_v18[i, :]):\n",
    "            suma += X_v18[i, j]\n",
    "    sumas[i] = suma\n",
    "g_18 = np.zeros(32)\n",
    "for i in range(32):\n",
    "    g_18[i] = max(X_v18[i,:])\n",
    "a_m = ganadores_18 > sumas\n",
    "b_m = ganadores_18 <= sumas\n",
    "YY = np.ones(len(promedios), dtype = np.int)\n",
    "YY[a_m] = 1\n",
    "YY[b_m] = 0\n"
   ]
  },
  {
   "cell_type": "code",
   "execution_count": 294,
   "metadata": {},
   "outputs": [],
   "source": [
    "#TOP 3 PARTIDOS 2022\n",
    "\n",
    "PH_22 = np.array([7.62, 8.38, 6.39, 11.21, 26.89, 8.60, 11.83, 8.12, 9.79, 11.31, 26.58, 8.38, 2.53, 5.21,17.29, 8.41, 9.34,13.90, 6.77, 3.95, 14.71, 18.03, 20.07, 11.87,11.89,5.32, 10.54, 5.30, 10.75, 22.90, 10.90, 3.62])\n",
    "PCC_22 = np.array([12.50, 17.16, 10.22, 14.14, 3.69, 26.43, 13.50, 11.44, 18.09, 3.04,6.19,10.97, 15.73, 30.86, 9.96, 10.37, 26.69, 13.85, 20.55, 6.01, 4.07, 24.78, 18.04, 6.01, 10.27, 6.50, 15.21, 15.25, 39.46, 6.82, 9.43, 4.56])\n",
    "PLC_22 = np.array([25.24, 13.12, 18.16, 20.88, 5.07, 20.48, 7.10, 16.04, 13.13, 6.50,9.35,10.39, 44.80, 15.74, 8.08, 18.36, 14.60, 7.40, 12.12, 16.52, 17.19, 4.26, 11.01, 14.50, 35.73, 19.30, 17.02, 27.45, 7.50, 8.60, 17.52, 20.83])\n",
    "X_22 = np.zeros((len(verde_18), 3))\n",
    "X_22[:,0] = PH_22\n",
    "X_22[:,1] = PCC_22\n",
    "X_22[:,2] = PLC_22\n",
    "sumas_22 = np.zeros(32)\n",
    "for i in range(32):\n",
    "    suma = 0\n",
    "    for j in range(3):\n",
    "        if X_22[i, j] != max(X_22[i, :]):\n",
    "            suma += X_22[i, j]\n",
    "    sumas_22[i] = suma\n",
    "g_22 = np.zeros(32)\n",
    "for i in range(32):\n",
    "    g_22[i] = max(X_22[i,:])\n",
    "YY_22 = np.ones(len(promedios), dtype = np.int)\n",
    "a_m22 = ganadores_22 > sumas_22\n",
    "b_m22 = ganadores_22 <= sumas_22\n",
    "YY_22[a_m22] = 1\n",
    "YY_22[b_m22] = 0"
   ]
  },
  {
   "cell_type": "code",
   "execution_count": 295,
   "metadata": {},
   "outputs": [],
   "source": [
    "promedio_v18 = np.mean(verde_18)\n",
    "promedio_g18 = np.mean(ganadores_18)\n",
    "promedio_v22 = np.mean(verde_22)\n",
    "promedio_g22 = np.mean(ganadores_22)\n",
    "\n",
    "above_mean_v18 = verde_18 > promedios\n",
    "above_mean_g18 = ganadores_18 > promedios\n",
    "above_mean_v22 = verde_22 > promedios\n",
    "above_mean_g22 = ganadores_22 > promedios\n",
    "\n",
    "below_mean_v18 = verde_18 <= promedios\n",
    "below_mean_g18 = ganadores_18 <= promedios\n",
    "below_mean_v22 = verde_22 <= promedios\n",
    "below_mean_g22 = ganadores_22 <= promedios"
   ]
  },
  {
   "cell_type": "code",
   "execution_count": 296,
   "metadata": {},
   "outputs": [],
   "source": [
    "Y_v18 = np.ones(len(verde_18), dtype = np.int)\n",
    "Y_g18 = np.ones(len(verde_18), dtype = np.int)\n",
    "Y_v22 = np.ones(len(verde_18), dtype = np.int)\n",
    "Y_g22 = np.ones(len(verde_18), dtype = np.int)"
   ]
  },
  {
   "cell_type": "code",
   "execution_count": 297,
   "metadata": {},
   "outputs": [],
   "source": [
    "Y_v18[above_mean_v18] = 1\n",
    "Y_v18[below_mean_v18] = 0\n",
    "\n",
    "Y_g18[above_mean_g18] = 1\n",
    "Y_g18[below_mean_g18] = 0\n",
    "\n",
    "Y_v22[above_mean_v22] = 1\n",
    "Y_v22[below_mean_v22] = 0\n",
    "\n",
    "Y_g22[above_mean_g22] = 1\n",
    "Y_g22[below_mean_g22] = 0\n"
   ]
  },
  {
   "cell_type": "code",
   "execution_count": 298,
   "metadata": {},
   "outputs": [
    {
     "data": {
      "text/plain": [
       "array([1, 1, 1, 1, 1, 0, 1, 0, 0, 1, 1, 1, 1, 1, 0, 1, 1, 0, 1, 1, 1, 1,\n",
       "       1, 1, 0, 1, 0, 1, 0, 0, 1, 1])"
      ]
     },
     "execution_count": 298,
     "metadata": {},
     "output_type": "execute_result"
    }
   ],
   "source": [
    "YY"
   ]
  },
  {
   "cell_type": "code",
   "execution_count": 299,
   "metadata": {},
   "outputs": [],
   "source": [
    "c = sklearn.linear_model.LogisticRegression().fit(X_v18, YY)\n",
    "Y_predict_g18 = c.predict(X_v18)"
   ]
  },
  {
   "cell_type": "code",
   "execution_count": 300,
   "metadata": {},
   "outputs": [
    {
     "data": {
      "text/plain": [
       "array([1, 0, 1, 1, 1, 1, 1, 1, 1, 1, 1, 1, 1, 1, 1, 1, 1, 1, 1, 1, 1, 0,\n",
       "       0, 1, 0, 1, 1, 1, 0, 1, 1, 1])"
      ]
     },
     "execution_count": 300,
     "metadata": {},
     "output_type": "execute_result"
    }
   ],
   "source": [
    "1, 0, 1, 1, 1, 1, 1, 1, 1, 1, 1, 1, 1, 1, 1, 1, 1, 1, 1, 1, 1, 0, 0, 1, 0, 1, 1, 1, 0, 1, 1, 1"
   ]
  },
  {
   "cell_type": "code",
   "execution_count": 301,
   "metadata": {},
   "outputs": [],
   "source": [
    "import sklearn.metrics\n",
    "\n",
    "#Se evalúa el modelo de los datos del 2018 con los datos del 2018\n",
    "\n",
    "P_0 = sklearn.metrics.precision_score(YY, Y_predict_g18, pos_label=0)\n",
    "P_1 = sklearn.metrics.precision_score(YY, Y_predict_g18, pos_label=1)\n",
    "R_0 = sklearn.metrics.recall_score(YY, Y_predict_g18, pos_label=0)\n",
    "R_1 = sklearn.metrics.recall_score(YY, Y_predict_g18, pos_label=1)\n",
    "F1_0 = sklearn.metrics.f1_score(YY, Y_predict_g18, pos_label=0)\n",
    "F1_1 = sklearn.metrics.f1_score(YY, Y_predict_g18, pos_label=1)"
   ]
  },
  {
   "cell_type": "code",
   "execution_count": 302,
   "metadata": {},
   "outputs": [
    {
     "data": {
      "text/plain": [
       "(0.4,\n",
       " 0.7407407407407407,\n",
       " 0.2222222222222222,\n",
       " 0.8695652173913043,\n",
       " 0.2857142857142857,\n",
       " 0.7999999999999999)"
      ]
     },
     "execution_count": 302,
     "metadata": {},
     "output_type": "execute_result"
    }
   ],
   "source": [
    "#Precision, Recall y F1 para cuando predije 0 y 1 respectivamente, Training\n",
    "P_0, P_1, R_0, R_1, F1_0, F1_1"
   ]
  },
  {
   "cell_type": "code",
   "execution_count": 303,
   "metadata": {},
   "outputs": [],
   "source": [
    "#Se evalua el modelo de los datos del 2018 con los datos del 2022\n",
    "\n",
    "P_0_22 = sklearn.metrics.precision_score(YY_22, Y_predict_g18, pos_label=0)\n",
    "P_1_22 = sklearn.metrics.precision_score(YY_22, Y_predict_g18, pos_label=1)\n",
    "R_0_22 = sklearn.metrics.recall_score(YY_22, Y_predict_g18, pos_label=0)\n",
    "R_1_22 = sklearn.metrics.recall_score(YY_22, Y_predict_g18, pos_label=1)\n",
    "F1_0_22 = sklearn.metrics.f1_score(YY_22, Y_predict_g18, pos_label=0)\n",
    "F1_1_22 = sklearn.metrics.f1_score(YY_22, Y_predict_g18, pos_label=1)"
   ]
  },
  {
   "cell_type": "code",
   "execution_count": 304,
   "metadata": {},
   "outputs": [
    {
     "data": {
      "text/plain": [
       "(0.4,\n",
       " 0.7037037037037037,\n",
       " 0.2,\n",
       " 0.8636363636363636,\n",
       " 0.26666666666666666,\n",
       " 0.7755102040816326)"
      ]
     },
     "execution_count": 304,
     "metadata": {},
     "output_type": "execute_result"
    }
   ],
   "source": [
    "#Precision, Recall y F1 para cuando predije 0 y 1 respectivamente, Testing\n",
    "P_0_22, P_1_22, R_0_22, R_1_22, F1_0_22, F1_1_22"
   ]
  },
  {
   "cell_type": "code",
   "execution_count": 269,
   "metadata": {},
   "outputs": [
    {
     "name": "stderr",
     "output_type": "stream",
     "text": [
      "C:\\Users\\Antoine\\anaconda3\\lib\\site-packages\\sklearn\\metrics\\_classification.py:1221: UndefinedMetricWarning: Precision is ill-defined and being set to 0.0 due to no predicted samples. Use `zero_division` parameter to control this behavior.\n",
      "  _warn_prf(average, modifier, msg_start, len(result))\n"
     ]
    },
    {
     "data": {
      "text/plain": [
       "Text(0.5, 0, 'Proba')"
      ]
     },
     "execution_count": 269,
     "metadata": {},
     "output_type": "execute_result"
    },
    {
     "data": {
      "image/png": "[encoded data removed]",
      "text/plain": [
       "<Figure size 720x504 with 1 Axes>"
      ]
     },
     "metadata": {
      "needs_background": "light"
     },
     "output_type": "display_data"
    },
    {
     "data": {
      "image/png": "[encoded data removed]",
      "text/plain": [
       "<Figure size 720x504 with 1 Axes>"
      ]
     },
     "metadata": {
      "needs_background": "light"
     },
     "output_type": "display_data"
    }
   ],
   "source": [
    "proba = c.predict_proba(X_v18)\n",
    "n_probas = 100\n",
    "probas_cut_alto = np.linspace(0.0,1.0,n_probas)\n",
    "precision_probas = np.ones(n_probas)\n",
    "recall_probas = np.ones(n_probas)\n",
    "f1_probas = np.ones(n_probas)\n",
    "\n",
    "for i in range(n_probas):\n",
    "    ii = proba[:,1] > probas_cut_alto[i]\n",
    "    Y_predict_g18[ii] = 1\n",
    "    Y_predict_g18[~ii] = 0\n",
    "    precision_probas[i] = sklearn.metrics.precision_score(Y_g22, Y_predict_g18, pos_label=1)\n",
    "    recall_probas[i] = sklearn.metrics.recall_score(Y_g22, Y_predict_g18, pos_label=1)\n",
    "    f1_probas[i] = sklearn.metrics.f1_score(Y_g22, Y_predict_g18, pos_label=1)\n",
    "plt.figure(figsize = (10,7))\n",
    "plt.plot(recall_probas, precision_probas)\n",
    "plt.grid()\n",
    "plt.ylabel('Precision')\n",
    "plt.xlabel('Recall')\n",
    "plt.figure(figsize = (10,7))\n",
    "plt.plot(probas_cut_alto, f1_probas)\n",
    "plt.grid()\n",
    "plt.ylabel('F1')\n",
    "plt.xlabel('Proba')"
   ]
  },
  {
   "cell_type": "code",
   "execution_count": 253,
   "metadata": {},
   "outputs": [
    {
     "name": "stderr",
     "output_type": "stream",
     "text": [
      "<ipython-input-253-c9a31ff42f55>:1: RuntimeWarning: invalid value encountered in true_divide\n",
      "  a = (recall_probas*precision_probas)/(recall_probas + precision_probas)\n"
     ]
    }
   ],
   "source": [
    "a = (recall_probas*precision_probas)/(recall_probas + precision_probas)"
   ]
  },
  {
   "cell_type": "code",
   "execution_count": 254,
   "metadata": {},
   "outputs": [
    {
     "data": {
      "text/plain": [
       "array([0.49206349, 0.49206349, 0.49206349, 0.49206349, 0.49206349,\n",
       "       0.49206349, 0.49206349, 0.49206349, 0.49206349, 0.49206349,\n",
       "       0.49206349, 0.49206349, 0.49206349, 0.49206349, 0.49206349,\n",
       "       0.49206349, 0.49206349, 0.49206349, 0.49206349, 0.49206349,\n",
       "       0.49206349, 0.49206349, 0.49206349, 0.49206349, 0.49206349,\n",
       "       0.49206349, 0.49206349, 0.49206349, 0.49206349, 0.49206349,\n",
       "       0.49206349, 0.49206349, 0.49206349, 0.49206349, 0.49206349,\n",
       "       0.49206349, 0.49206349, 0.49206349, 0.49206349, 0.49206349,\n",
       "       0.49206349, 0.49206349, 0.49206349, 0.49206349, 0.47540984,\n",
       "       0.47540984, 0.47540984, 0.46666667, 0.46666667, 0.44827586,\n",
       "       0.44827586, 0.44827586, 0.44827586, 0.43859649, 0.42857143,\n",
       "       0.42857143, 0.41818182, 0.41818182, 0.41818182, 0.40740741,\n",
       "       0.40740741, 0.39622642, 0.39622642, 0.39622642, 0.38461538,\n",
       "       0.38461538, 0.38461538, 0.38461538, 0.37254902, 0.36      ,\n",
       "       0.34693878, 0.34693878, 0.31914894, 0.30434783, 0.30434783,\n",
       "       0.31111111, 0.29545455, 0.29545455, 0.29545455, 0.20512821,\n",
       "       0.20512821, 0.20512821, 0.20512821, 0.18421053, 0.18421053,\n",
       "       0.18421053, 0.18421053, 0.18421053, 0.18421053, 0.18421053,\n",
       "       0.18421053, 0.16216216, 0.13888889, 0.08823529, 0.06060606,\n",
       "       0.06060606, 0.06060606, 0.03125   , 0.03125   ,        nan])"
      ]
     },
     "execution_count": 254,
     "metadata": {},
     "output_type": "execute_result"
    }
   ],
   "source": [
    "a"
   ]
  },
  {
   "cell_type": "code",
   "execution_count": null,
   "metadata": {},
   "outputs": [],
   "source": [
    "['Amazonas' 'Antioquia' 'Arauca' 'Atlantico' 'Bogota DC' 'Bolivar'\n",
    " 'Boyaca' 'Caldas' 'Caqueta' 'Casanare' 'Cauca' 'Cesar' 'Choco' 'Cordoba'\n",
    " 'Cundinamarca' 'Guainia' 'Guaviare' 'Huila' 'La Guajira' 'Magdalena'\n",
    " 'Meta' 'Narino' 'Putumayo' 'Quindio' 'Risaralda' 'San Andres' 'Santander'\n",
    " 'Sucre' 'Tolima' 'Valle' 'Vaupes' 'Vichada']"
   ]
  }
 ],
 "metadata": {
  "kernelspec": {
   "display_name": "Python 3",
   "language": "python",
   "name": "python3"
  },
  "language_info": {
   "codemirror_mode": {
    "name": "ipython",
    "version": 3
   },
   "file_extension": ".py",
   "mimetype": "text/x-python",
   "name": "python",
   "nbconvert_exporter": "python",
   "pygments_lexer": "ipython3",
   "version": "3.8.5"
  }
 },
 "nbformat": 4,
 "nbformat_minor": 4
}
